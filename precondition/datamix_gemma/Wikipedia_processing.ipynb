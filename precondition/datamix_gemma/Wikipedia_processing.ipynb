{
  "nbformat": 4,
  "nbformat_minor": 0,
  "metadata": {
    "colab": {
      "provenance": []
    },
    "kernelspec": {
      "name": "python3",
      "display_name": "Python 3"
    },
    "language_info": {
      "name": "python"
    }
  },
  "cells": [
    {
      "cell_type": "code",
      "execution_count": null,
      "metadata": {
        "id": "PE4ZRoyy4qGp"
      },
      "outputs": [],
      "source": [
        "import tensorflow_datasets as tfds\n",
        "import csv\n",
        "import sys\n",
        "import tensorflow as tf\n",
        "\n",
        "wiki_tfds = tfds.load('wikipedia/20190301.en', split='train')"
      ]
    },
    {
      "cell_type": "code",
      "source": [
        "sample = wiki_tfds.take(2)\n",
        "for x in sample:\n",
        "  print(x)"
      ],
      "metadata": {
        "id": "UXNdsgd55QZs"
      },
      "execution_count": null,
      "outputs": []
    },
    {
      "cell_type": "code",
      "source": [
        "csv.field_size_limit(sys.maxsize)\n",
        "\n",
        "joined_csv_file_path = 'home/shivguptashi/wikidata/joined_table.csv'\n",
        "id_to_info = {}\n",
        "title_to_info = {}\n",
        "with gfile.Open(joined_csv_file_path, 'r') as f:\n",
        "  csvreader = csv.reader(f, delimiter=',')\n",
        "  it = 0\n",
        "  for row in csvreader:\n",
        "    title = row[-7].strip('|')\n",
        "    #print(title)\n",
        "    title_to_info[title] = row\n",
        "    it += 1\n",
        "    if it % 1000 == 0:\n",
        "      print(it)\n"
      ],
      "metadata": {
        "id": "J4WTWdSk6Wg3"
      },
      "execution_count": null,
      "outputs": []
    },
    {
      "cell_type": "code",
      "source": [
        "num_rows_in_info = len(title_to_info['Tatrapan'])\n",
        "print(num_rows_in_info)\n",
        "print(num_rows_in_info - 7 - 4)"
      ],
      "metadata": {
        "id": "ebUptuXE83TD"
      },
      "execution_count": null,
      "outputs": []
    },
    {
      "cell_type": "code",
      "source": [
        "from operator import itemgetter\n",
        "\n",
        "def map_to_features(title, text):\n",
        "  str_title = title.numpy().decode('utf-8')\n",
        "  #try:\n",
        "  if str_title not in title_to_info:\n",
        "    return (title, text, -1)\n",
        "  all_entries = [float(y) for y in title_to_info[str_title][4:num_rows_in_info-7]]\n",
        "  index, _ = max(enumerate(all_entries), key=itemgetter(1))\n",
        "  return (title, text, index)\n",
        "  #except:\n",
        "  #  return (title, text, -1)\n",
        "\n",
        "wiki_tfds = wiki_tfds.map(lambda x: (x['title'], x['text']), num_parallel_calls=16)\n",
        "wiki_tfds = wiki_tfds.map(lambda x, y: tf.py_function(map_to_features, [x, y], [tf.string, tf.string, tf.int32]), num_parallel_calls=16)\n"
      ],
      "metadata": {
        "id": "Rc8U4zgE6iub"
      },
      "execution_count": null,
      "outputs": []
    },
    {
      "cell_type": "code",
      "source": [
        "save_path = 'home/shivguptashi/wikidata/wiki_tfds_with_topic'\n",
        "tf.data.Dataset.save(wiki_tfds, save_path)\n",
        "#from functools import partial\n",
        "#def filter_f(x, i):\n",
        "#  try:\n",
        "#    str_title = x.numpy().decode('utf-8')\n",
        "#    all_entries = [int(y) for y in title_to_info[str_title][4:num_rows_in_info-7]]\n",
        "#    print(all_entries)\n",
        "#    if int(title_to_info[str_title][i]) >= max(all_entries):\n",
        "#      return True\n",
        "#    return False\n",
        "#  except:\n",
        "#    return False\n",
        "#\n",
        "#categories_tfds = []\n",
        "#for i in range(4, num_rows_in_info - 7):\n",
        "  #categories_tfds.append(wiki_tfds.filter(lambda x, y: tf.py_function(partial(filter_f, i=i), [x,], [tf.bool,])[0]))"
      ],
      "metadata": {
        "id": "KJI0Cq499oYv"
      },
      "execution_count": null,
      "outputs": []
    },
    {
      "cell_type": "code",
      "source": [
        "sample_tfds = wiki_tfds.take(2)\n",
        "for x in sample_tfds:\n",
        "  print(x[0])"
      ],
      "metadata": {
        "id": "TDlr690KwFLk"
      },
      "execution_count": null,
      "outputs": []
    },
    {
      "cell_type": "code",
      "source": [
        "sample_category_tfds = categories_tfds[0].take(2)\n",
        "for x in sample_category_tfds:\n",
        "  print(x)"
      ],
      "metadata": {
        "id": "5ARFZVx00J4U"
      },
      "execution_count": null,
      "outputs": []
    },
    {
      "cell_type": "code",
      "source": [
        "\n",
        "wiki_tfds_with_topic = tf.data.Dataset.load(save_path)\n",
        "sample_tfds_with_topic = wiki_tfds_with_topic.take(10)\n",
        "sample_wiki_tfds_with_topic = sample_tfds_with_topic.filter(lambda x, y, z: tf.py_function(filter_f, [z], [tf.bool])[0])\n",
        "for x in sample_wiki_tfds_with_topic:\n",
        "  print(x)"
      ],
      "metadata": {
        "id": "iim5buMZIfiU"
      },
      "execution_count": null,
      "outputs": []
    },
    {
      "cell_type": "code",
      "source": [
        "from functools import partial\n",
        "def filter_f(topic_ind, i):\n",
        "  if topic_ind == i:\n",
        "    return True\n",
        "  return False\n",
        "\n",
        "topic_wise_save_path = 'home/shivguptashi/wikidata/topic_wise_tfds'\n",
        "for i in range(58, num_rows_in_info - 7):\n",
        "  ind = i - 4\n",
        "  cur_topic_save_path = topic_wise_save_path + '_topic_' + str(ind)\n",
        "  filtered_wiki_tfds = wiki_tfds_with_topic.filter(lambda x, y, z: tf.py_function(partial(filter_f, i=ind), [z], [tf.bool])[0])\n",
        "  print('index:', ind)\n",
        "  tf.data.Dataset.save(filtered_wiki_tfds, cur_topic_save_path)"
      ],
      "metadata": {
        "id": "6248Q9YpH_Em"
      },
      "execution_count": null,
      "outputs": []
    },
    {
      "cell_type": "code",
      "source": [
        "print(num_rows_in_info)"
      ],
      "metadata": {
        "id": "1PItow2MGpIo"
      },
      "execution_count": null,
      "outputs": []
    },
    {
      "cell_type": "code",
      "source": [],
      "metadata": {
        "id": "SEyLBVkDo-FM"
      },
      "execution_count": null,
      "outputs": []
    }
  ]
}